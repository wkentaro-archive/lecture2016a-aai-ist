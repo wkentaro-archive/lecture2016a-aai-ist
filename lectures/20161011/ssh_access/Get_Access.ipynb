{
 "cells": [
  {
   "cell_type": "markdown",
   "metadata": {},
   "source": [
    "<b>SSH Access</b>\n",
    "\n",
    "Follow the steps in each cell to gain access to your instance.  \n"
   ]
  },
  {
   "cell_type": "markdown",
   "metadata": {},
   "source": [
    "First create a new key pair by running the cell below.  This will generate a private/public key that you can use to ssh into your instance.  \n",
    "\n",
    "<b>Run ME</b>"
   ]
  },
  {
   "cell_type": "code",
   "execution_count": null,
   "metadata": {
    "collapsed": false,
    "scrolled": false
   },
   "outputs": [
    {
     "name": "stdout",
     "output_type": "stream",
     "text": [
      "/home/ubuntu/userdata/ssh_access/sshkey already exists.\r\n",
      "Overwrite (y/n)? "
     ]
    }
   ],
   "source": [
    "!ssh-keygen -b 2048 -t rsa -f /home/ubuntu/userdata/ssh_access/sshkey -q -N \"\"\"\"\"\"\n",
    "!cat /home/ubuntu/userdata/ssh_access/sshkey.pub >> /home/ubuntu/.ssh/authorized_keys"
   ]
  },
  {
   "cell_type": "markdown",
   "metadata": {},
   "source": [
    "You should now see two files under the ssh_access folder \"sshkey\" and \"sshkey.pub\".  Please download and store the \"sshkey\" to your local computer.\n",
    "\n",
    "Right-click -> Save Link As... -> [sshkey](sshkey)"
   ]
  },
  {
   "cell_type": "markdown",
   "metadata": {},
   "source": [
    "<b>Windows (Putty SSH Access)</b>\n",
    "\n",
    "1.) Download and install [PuTTY and PuTTYgen](http://www.putty.org/)\n",
    "\n",
    "2.) Open PuTTYgen -> Click Load -> and open 'sshkey' (You need to select 'All Files *.*')\n",
    "\n",
    "3.) Click 'Save private key' -> Select 'yes' -> enter file name 'sshkey.ppk' and click save\n",
    "\n",
    "<img src=\"files/images/puttygen.png\" width=\"550px\">\n",
    "\n",
    "4.) Open PuTTY\n",
    "\n",
    "5.) For 'Host Name (or IP address)' enter 'ubuntu@ip_address'\n",
    "\n",
    "* IP Should match the browser URL\n",
    "<img src=\"files/images/puttyppk.png\" width=\"250px\">\n",
    "\n",
    "6.) Under Category: select Connection->SSH->Auth\n",
    "\n",
    "7.) Browse and select the 'sshkey.ppk' file we made in PuTTYgen.\n",
    "<img src=\"files/images/puttyhost.png\" width=\"250px\">\n",
    "\n",
    "8.) Click 'Open'"
   ]
  },
  {
   "cell_type": "markdown",
   "metadata": {
    "collapsed": true
   },
   "source": [
    "<b>Linux/Mac (SSH Access)</b>\n",
    "\n",
    "Open a Terminal window and use the following commands.\n",
    "\n",
    "Change file permission to read-only\n",
    "```bash\n",
    "chmod 400 sshkey\n",
    "```\n",
    "\n",
    "SSH into your instance\n",
    "```bash\n",
    "ssh -i sshkey ubuntu@<ip>\n",
    "```\n",
    "\n",
    "*The IP address should match the IP in the URL above.\n",
    "\n",
    "<img src=\"files/images/terminal.png\" width=\"500px\">\n",
    "\n"
   ]
  }
 ],
 "metadata": {
  "kernelspec": {
   "display_name": "Python 2",
   "language": "python",
   "name": "python2"
  },
  "language_info": {
   "codemirror_mode": {
    "name": "ipython",
    "version": 2
   },
   "file_extension": ".py",
   "mimetype": "text/x-python",
   "name": "python",
   "nbconvert_exporter": "python",
   "pygments_lexer": "ipython2",
   "version": "2.7.12"
  }
 },
 "nbformat": 4,
 "nbformat_minor": 0
}
