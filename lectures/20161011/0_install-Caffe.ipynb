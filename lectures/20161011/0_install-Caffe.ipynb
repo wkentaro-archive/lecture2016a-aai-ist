{
 "cells": [
  {
   "cell_type": "markdown",
   "metadata": {},
   "source": [
    "# Caffe installation"
   ]
  },
  {
   "cell_type": "code",
   "execution_count": null,
   "metadata": {
    "collapsed": false
   },
   "outputs": [],
   "source": [
    "! echo \"Installation begins at `date`\""
   ]
  },
  {
   "cell_type": "markdown",
   "metadata": {},
   "source": [
    "### Install dependencies"
   ]
  },
  {
   "cell_type": "code",
   "execution_count": null,
   "metadata": {
    "collapsed": false,
    "scrolled": false
   },
   "outputs": [],
   "source": [
    "%%bash\n",
    "sudo apt-get install -y libleveldb-dev libsnappy-dev libhdf5-serial-dev libopencv-dev\n",
    "sudo apt-get install -y --no-install-recommends libboost-all-dev\n",
    "sudo apt-get install -y libgflags-dev libgoogle-glog-dev liblmdb-dev\n",
    "sudo apt-get install -y libopenblas-dev\n",
    "conda install -y protobuf"
   ]
  },
  {
   "cell_type": "markdown",
   "metadata": {},
   "source": [
    "### Clone caffe repo"
   ]
  },
  {
   "cell_type": "code",
   "execution_count": null,
   "metadata": {
    "collapsed": false
   },
   "outputs": [],
   "source": [
    "%%bash\n",
    "mkdir ~/apps/\n",
    "git clone https://github.com/BVLC/caffe ~/apps/caffe"
   ]
  },
  {
   "cell_type": "markdown",
   "metadata": {},
   "source": [
    "### Install cudnn"
   ]
  },
  {
   "cell_type": "code",
   "execution_count": null,
   "metadata": {
    "collapsed": false
   },
   "outputs": [],
   "source": [
    "%%bash\n",
    "cd ~/apps/\n",
    "rm cuda75.deb\n",
    "wget -O cuda75.deb http://developer.download.nvidia.com/compute/machine-learning/\\\n",
    "repos/ubuntu1404/x86_64/libcudnn5_5.0.5-1+cuda7.5_amd64.deb 2> /dev/null"
   ]
  },
  {
   "cell_type": "code",
   "execution_count": null,
   "metadata": {
    "collapsed": false
   },
   "outputs": [],
   "source": [
    "%%bash\n",
    "cd ~/apps/\n",
    "sudo dpkg -i cuda75.deb"
   ]
  },
  {
   "cell_type": "code",
   "execution_count": null,
   "metadata": {
    "collapsed": false
   },
   "outputs": [],
   "source": [
    "%%bash\n",
    "sudo cp /usr/local/cudnn/include/* /usr/local/cuda-7.5/include/\n",
    "sudo cp /usr/local/cudnn/lib64/* /usr/local/cuda-7.5/lib64/"
   ]
  },
  {
   "cell_type": "markdown",
   "metadata": {},
   "source": [
    "### Compile caffe with openBLAS and cudnn option (~5 mins)"
   ]
  },
  {
   "cell_type": "code",
   "execution_count": null,
   "metadata": {
    "collapsed": false
   },
   "outputs": [],
   "source": [
    "%%bash\n",
    "cd ~/apps/caffe\n",
    "cat Makefile.config.example | sed -E \"s/atlas/open/g\" | sed -E \"s/# USE_CUDNN/USE_CUDNN/g\" > Makefile.config"
   ]
  },
  {
   "cell_type": "markdown",
   "metadata": {},
   "source": [
    "Edit Makefile.config to use anaconda for compiling Python interface. "
   ]
  },
  {
   "cell_type": "raw",
   "metadata": {},
   "source": [
    "...\n",
    "...\n",
    "#PYTHON_INCLUDE := /usr/include/python2.7 \\\n",
    "                #/usr/lib/python2.7/dist-packages/numpy/core/include\n",
    "# Anaconda Python distribution is quite popular. Include path:\n",
    "# Verify anaconda location, sometimes it's in root.\n",
    " ANACONDA_HOME := $(HOME)/anaconda2                                ### Be careful that the directory is anaconda'2'!!!\n",
    " PYTHON_INCLUDE := $(ANACONDA_HOME)/include \\\n",
    "                 $(ANACONDA_HOME)/include/python2.7 \\\n",
    "                 $(ANACONDA_HOME)/lib/python2.7/site-packages/numpy/core/include \\\n",
    "...\n",
    "#PYTHON_LIB := /usr/lib\n",
    " PYTHON_LIB := $(ANACONDA_HOME)/lib\n",
    "...\n",
    "..."
   ]
  },
  {
   "cell_type": "markdown",
   "metadata": {},
   "source": [
    "### Compile python module"
   ]
  },
  {
   "cell_type": "code",
   "execution_count": null,
   "metadata": {
    "collapsed": false,
    "scrolled": true
   },
   "outputs": [],
   "source": [
    "%%bash\n",
    "cd ~/apps/caffe\n",
    "make all -j8     ### if the compilation fails, do login to your server and do this by hand. \n",
    "make pycaffe"
   ]
  },
  {
   "cell_type": "code",
   "execution_count": null,
   "metadata": {
    "collapsed": false
   },
   "outputs": [],
   "source": [
    "! echo \"Installation ends at `date`\""
   ]
  },
  {
   "cell_type": "markdown",
   "metadata": {},
   "source": [
    "### Download pre-trained models "
   ]
  },
  {
   "cell_type": "code",
   "execution_count": null,
   "metadata": {
    "collapsed": false
   },
   "outputs": [],
   "source": [
    "%%bash\n",
    "/home/ubuntu/apps/caffe/scripts/download_model_binary.py /home/ubuntu/apps/caffe/models/bvlc_reference_caffenet #CaffeNet\n",
    "mkdir /home/ubuntu/apps/caffe/models/VGG16 #VGG 16-layer network\n",
    "wget http://www.robots.ox.ac.uk/~vgg/software/very_deep/caffe/VGG_ILSVRC_16_layers.caffemodel -P /home/ubuntu/apps/caffe/models/VGG16 -nc\n",
    "wget https://gist.githubusercontent.com/ksimonyan/211839e770f7b538e2d8/raw/0067c9b32f60362c74f4c445a080beed06b07eb3/VGG_ILSVRC_16_layers_deploy.prototxt -P /home/ubuntu/apps/caffe/models/VGG16 -nc"
   ]
  },
  {
   "cell_type": "markdown",
   "metadata": {
    "collapsed": true
   },
   "source": [
    "### Test caffe with MNIST dataset"
   ]
  },
  {
   "cell_type": "markdown",
   "metadata": {},
   "source": [
    "download MNIST dataset"
   ]
  },
  {
   "cell_type": "code",
   "execution_count": null,
   "metadata": {
    "collapsed": false
   },
   "outputs": [],
   "source": [
    "%%bash\n",
    "cd ~/apps/caffe/\n",
    "./data/mnist/get_mnist.sh 2> /dev/null\n",
    "./examples/mnist/create_mnist.sh 2> /dev/null"
   ]
  },
  {
   "cell_type": "markdown",
   "metadata": {},
   "source": [
    "train a LeNet example"
   ]
  },
  {
   "cell_type": "code",
   "execution_count": null,
   "metadata": {
    "collapsed": false
   },
   "outputs": [],
   "source": [
    "%%bash\n",
    "cd ~/apps/caffe/\n",
    "./examples/mnist/train_lenet.sh"
   ]
  }
 ],
 "metadata": {
  "kernelspec": {
   "display_name": "Python 2",
   "language": "python",
   "name": "python2"
  },
  "language_info": {
   "codemirror_mode": {
    "name": "ipython",
    "version": 2
   },
   "file_extension": ".py",
   "mimetype": "text/x-python",
   "name": "python",
   "nbconvert_exporter": "python",
   "pygments_lexer": "ipython2",
   "version": "2.7.12"
  }
 },
 "nbformat": 4,
 "nbformat_minor": 0
}
